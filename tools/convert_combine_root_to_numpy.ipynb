{
 "cells": [
  {
   "cell_type": "code",
   "execution_count": 1,
   "id": "1566d4e3",
   "metadata": {},
   "outputs": [],
   "source": [
    "import uproot\n",
    "import numpy as np\n",
    "import os"
   ]
  },
  {
   "cell_type": "code",
   "execution_count": 2,
   "id": "4ff30037",
   "metadata": {},
   "outputs": [],
   "source": [
    "#This reads in all of the root files and puts them together into the data dic, turning the root file to numpy.\n",
    "data = {}\n",
    "holder = {}\n",
    "a = {}\n",
    "first = True\n",
    "for file in os.listdir('/scratch365/njamieso/Likelihood/1Mpts_10kjobs/'):\n",
    "    location = '/scratch365/njamieso/Likelihood/1Mpts_10kjobs/' + file\n",
    "    if first:\n",
    "        data = uproot.concatenate(location,['cQei', 'cQl3i', 'cQlMi', 'cbW', 'cpQ3', 'cpQM', 'cpt','cptb','ctG','ctW','ctZ','ctei','ctlSi','ctlTi','ctli','ctp','cQq13','cQq83','cQq11','ctq1','cQq81','ctq8','ctt1','cQQ1','cQt1','cQt8','deltaNLL'], library='np')\n",
    "    else:\n",
    "        holder = uproot.concatenate(location,['cQei', 'cQl3i', 'cQlMi', 'cbW', 'cpQ3', 'cpQM', 'cpt','cptb','ctG','ctW','ctZ','ctei','ctlSi','ctlTi','ctli','ctp','cQq13','cQq83','cQq11','ctq1','cQq81','ctq8','ctt1','cQQ1','cQt1','cQt8','deltaNLL'], library='np')\n",
    "        for key in data.keys():\n",
    "            data[key] = np.concatenate((data[key],holder[key]))\n",
    "    first = False"
   ]
  },
  {
   "cell_type": "code",
   "execution_count": 3,
   "id": "402ac55f",
   "metadata": {},
   "outputs": [],
   "source": [
    "np.savez('/scratch365/njamieso/Likelihood/26D/26D_likelihood_data_5mil.npz',**data)"
   ]
  }
 ],
 "metadata": {
  "kernelspec": {
   "display_name": "Python 3 (ipykernel)",
   "language": "python",
   "name": "python3"
  },
  "language_info": {
   "codemirror_mode": {
    "name": "ipython",
    "version": 3
   },
   "file_extension": ".py",
   "mimetype": "text/x-python",
   "name": "python",
   "nbconvert_exporter": "python",
   "pygments_lexer": "ipython3",
   "version": "3.8.10"
  }
 },
 "nbformat": 4,
 "nbformat_minor": 5
}
