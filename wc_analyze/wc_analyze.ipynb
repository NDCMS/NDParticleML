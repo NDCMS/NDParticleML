{
 "cells": [
  {
   "cell_type": "code",
   "execution_count": 1,
   "id": "c51d5d5d",
   "metadata": {},
   "outputs": [],
   "source": [
    "import nn_module as nnm\n",
    "import torch\n",
    "import numpy as np"
   ]
  },
  {
   "cell_type": "code",
   "execution_count": 13,
   "id": "c51a5cb2",
   "metadata": {},
   "outputs": [],
   "source": [
    "def Analyze_WC(model_path='./16603_11_model+.pt',**wc):\n",
    "    #Load the model\n",
    "    save_dict = torch.load(model_path)\n",
    "    best_model_state = save_dict['model']\n",
    "    parameters_save = save_dict['parameters']\n",
    "    input_stats = save_dict['input_stats']\n",
    "    output_stats = save_dict['output_stats']\n",
    "    model = nnm.create_model(26, 1, parameters_save)\n",
    "    model.load_state_dict(best_model_state)\n",
    "    model.eval()\n",
    "\n",
    "    try:\n",
    "        input_length = len(wc[list(wc.keys())[0]])\n",
    "    except:\n",
    "        input_length = 1\n",
    "\n",
    "    inputs = torch.zeros(input_length,26).cuda(0)\n",
    "    \n",
    "    for key in wc:\n",
    "        try:\n",
    "            if(type(wc[key]) == torch.Tensor):\n",
    "                inputs[:,names[key]] = wc[key].cuda(0)\n",
    "            elif(type(wc[key]) == np.ndarray):\n",
    "                inputs[:,names[key]] = torch.from_numpy(wc[key]).cuda(0)\n",
    "            else:\n",
    "                inputs[:,names[key]] = torch.tensor([wc[key]]).cuda(0)\n",
    "        except:\n",
    "            raise RuntimeError(f'The Wilson Coefficient {key} is not supported.')\n",
    "    print(inputs)\n",
    "    return model(inputs)"
   ]
  },
  {
   "cell_type": "code",
   "execution_count": 4,
   "id": "082586fa",
   "metadata": {},
   "outputs": [],
   "source": [
    "a = torch.tensor([1,2,3])\n",
    "b = torch.tensor([4,5,6])\n",
    "c = torch.tensor([7,8,9])"
   ]
  },
  {
   "cell_type": "code",
   "execution_count": 16,
   "id": "be57c003",
   "metadata": {},
   "outputs": [],
   "source": [
    "a = np.array([1,2,3])\n",
    "b = np.array([4,5,6])\n",
    "c = np.array([7,8,9])"
   ]
  },
  {
   "cell_type": "code",
   "execution_count": 8,
   "id": "d37e9316",
   "metadata": {},
   "outputs": [],
   "source": [
    "a = 1\n",
    "b = 4\n",
    "c = 7"
   ]
  },
  {
   "cell_type": "code",
   "execution_count": 10,
   "id": "3c457518",
   "metadata": {},
   "outputs": [],
   "source": [
    "a = [1,2,3]\n",
    "b = [4,5,6]\n",
    "c = [7,8,9]"
   ]
  },
  {
   "cell_type": "code",
   "execution_count": 17,
   "id": "a2e08f8b",
   "metadata": {},
   "outputs": [
    {
     "name": "stdout",
     "output_type": "stream",
     "text": [
      "tensor([[1., 4., 7., 0., 0., 0., 0., 0., 0., 0., 0., 0., 0., 0., 0., 0., 0., 0.,\n",
      "         0., 0., 0., 0., 0., 0., 0., 0.],\n",
      "        [2., 5., 8., 0., 0., 0., 0., 0., 0., 0., 0., 0., 0., 0., 0., 0., 0., 0.,\n",
      "         0., 0., 0., 0., 0., 0., 0., 0.],\n",
      "        [3., 6., 9., 0., 0., 0., 0., 0., 0., 0., 0., 0., 0., 0., 0., 0., 0., 0.,\n",
      "         0., 0., 0., 0., 0., 0., 0., 0.]], device='cuda:0')\n"
     ]
    },
    {
     "data": {
      "text/plain": [
       "tensor([[1.8307],\n",
       "        [2.6086],\n",
       "        [3.3207]], device='cuda:0', grad_fn=<AddmmBackward0>)"
      ]
     },
     "execution_count": 17,
     "metadata": {},
     "output_type": "execute_result"
    }
   ],
   "source": [
    "Analyze_WC(model_path='./16603_11_model+.pt', cQei = a, cQl3i = b, cQlMi = c)"
   ]
  }
 ],
 "metadata": {
  "kernelspec": {
   "display_name": "Python 3 (ipykernel)",
   "language": "python",
   "name": "python3"
  },
  "language_info": {
   "codemirror_mode": {
    "name": "ipython",
    "version": 3
   },
   "file_extension": ".py",
   "mimetype": "text/x-python",
   "name": "python",
   "nbconvert_exporter": "python",
   "pygments_lexer": "ipython3",
   "version": "3.8.10"
  }
 },
 "nbformat": 4,
 "nbformat_minor": 5
}
