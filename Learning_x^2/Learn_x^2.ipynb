{
 "cells": [
  {
   "cell_type": "code",
   "execution_count": 12,
   "metadata": {},
   "outputs": [],
   "source": [
    "import torch\n",
    "import matplotlib.pyplot as plt\n",
    "\n",
    "# Create a list of sets of N random numbers\n",
    "N = 3\n",
    "inputs = torch.randn((10000,N),dtype=torch.float32).cuda()\n",
    "outputs = inputs ** 2"
   ]
  },
  {
   "cell_type": "code",
   "execution_count": 13,
   "metadata": {},
   "outputs": [
    {
     "data": {
      "text/plain": [
       "device(type='cuda', index=0)"
      ]
     },
     "execution_count": 13,
     "metadata": {},
     "output_type": "execute_result"
    }
   ],
   "source": [
    "outputs.device"
   ]
  },
  {
   "cell_type": "code",
   "execution_count": 14,
   "metadata": {},
   "outputs": [
    {
     "data": {
      "text/plain": [
       "tensor([-0.2657,  1.2824,  1.1674], device='cuda:0')"
      ]
     },
     "execution_count": 14,
     "metadata": {},
     "output_type": "execute_result"
    }
   ],
   "source": [
    "inputs[0]"
   ]
  },
  {
   "cell_type": "code",
   "execution_count": 15,
   "metadata": {},
   "outputs": [
    {
     "data": {
      "text/plain": [
       "tensor([0.0706, 1.6445, 1.3629], device='cuda:0')"
      ]
     },
     "execution_count": 15,
     "metadata": {},
     "output_type": "execute_result"
    }
   ],
   "source": [
    "outputs[0]"
   ]
  },
  {
   "cell_type": "code",
   "execution_count": 16,
   "metadata": {},
   "outputs": [
    {
     "data": {
      "image/png": "[encoded data removed]",
      "text/plain": [
       "<Figure size 432x288 with 1 Axes>"
      ]
     },
     "metadata": {
      "needs_background": "light"
     },
     "output_type": "display_data"
    }
   ],
   "source": [
    "# set up graph for loss curve\n",
    "fig_loss, ax_loss = plt.subplots()\n",
    "\n",
    "# create a test set\n",
    "test_inputs = torch.randn((1000,N),dtype=torch.float32).cuda()\n",
    "test_outputs = test_inputs ** 2"
   ]
  },
  {
   "cell_type": "code",
   "execution_count": 17,
   "metadata": {},
   "outputs": [
    {
     "name": "stdout",
     "output_type": "stream",
     "text": [
      "Weights and bias values before training.\n",
      "tensor([[ 0.0273,  0.3089,  0.5132],\n",
      "        [ 0.0807,  0.5353, -0.3424],\n",
      "        [-0.1788,  0.3870,  0.3170],\n",
      "        [ 0.2842,  0.5138, -0.1464],\n",
      "        [ 0.5639, -0.1564,  0.4745],\n",
      "        [ 0.2790, -0.0024,  0.3041],\n",
      "        [-0.2689,  0.5014,  0.4669],\n",
      "        [ 0.4474, -0.2010, -0.0390],\n",
      "        [ 0.5108, -0.4572,  0.5436],\n",
      "        [ 0.2380,  0.3309,  0.5012],\n",
      "        [ 0.3395,  0.3739,  0.4146],\n",
      "        [-0.3247, -0.4394,  0.3330],\n",
      "        [ 0.2182, -0.1571,  0.3070],\n",
      "        [-0.2418,  0.3742, -0.5315],\n",
      "        [-0.4809,  0.3124,  0.5579],\n",
      "        [ 0.1147, -0.3378,  0.1951],\n",
      "        [ 0.5436, -0.1670, -0.1273],\n",
      "        [-0.5446,  0.2394,  0.1286],\n",
      "        [-0.4352,  0.5596,  0.3206],\n",
      "        [ 0.2517, -0.0447, -0.4592],\n",
      "        [-0.3264, -0.4161,  0.3232],\n",
      "        [ 0.3092,  0.3549, -0.4749],\n",
      "        [-0.5023, -0.5683,  0.4541],\n",
      "        [-0.2588, -0.0990, -0.5109],\n",
      "        [ 0.3595, -0.4053,  0.1407],\n",
      "        [ 0.3282, -0.3005, -0.2351],\n",
      "        [ 0.2136,  0.0543,  0.4648],\n",
      "        [-0.0787, -0.3032,  0.5653],\n",
      "        [ 0.2635,  0.3035, -0.2207],\n",
      "        [-0.5360,  0.5344, -0.5721],\n",
      "        [ 0.3754, -0.2661, -0.1880],\n",
      "        [-0.3506,  0.1515,  0.4263],\n",
      "        [-0.0687, -0.5206, -0.1431],\n",
      "        [ 0.2670, -0.0112,  0.3317],\n",
      "        [ 0.1725, -0.4809, -0.3820],\n",
      "        [ 0.1511, -0.5211,  0.3076],\n",
      "        [-0.0984, -0.2443, -0.5139],\n",
      "        [ 0.5121,  0.3981,  0.3184],\n",
      "        [-0.0204,  0.0874,  0.3651],\n",
      "        [ 0.3899,  0.2947, -0.0218],\n",
      "        [ 0.5450,  0.1574,  0.3940],\n",
      "        [ 0.2357, -0.5407, -0.2941],\n",
      "        [-0.4830, -0.0815, -0.3172],\n",
      "        [ 0.5676, -0.4296,  0.1813],\n",
      "        [ 0.0494,  0.5230,  0.3861],\n",
      "        [-0.0103,  0.3701,  0.1873],\n",
      "        [ 0.0044,  0.3789,  0.0815],\n",
      "        [-0.4243,  0.0203,  0.5437],\n",
      "        [-0.2272, -0.0792,  0.4855],\n",
      "        [-0.1266, -0.2316,  0.0445],\n",
      "        [ 0.0524, -0.3007,  0.3552],\n",
      "        [-0.4799,  0.1104,  0.0383],\n",
      "        [ 0.1495,  0.1406, -0.0551],\n",
      "        [-0.2698, -0.3099, -0.1894],\n",
      "        [-0.3252, -0.2965, -0.5243],\n",
      "        [-0.4652,  0.4508, -0.1422],\n",
      "        [ 0.4180, -0.1936,  0.1196],\n",
      "        [ 0.5112,  0.2363,  0.0026],\n",
      "        [-0.5673, -0.4804, -0.0524],\n",
      "        [ 0.2351, -0.5221,  0.4475],\n",
      "        [-0.1953,  0.5389, -0.3705],\n",
      "        [ 0.5317,  0.2007,  0.5549],\n",
      "        [ 0.4231,  0.0283, -0.1826],\n",
      "        [-0.5700, -0.4038,  0.0942],\n",
      "        [-0.3633,  0.1897, -0.3399],\n",
      "        [ 0.0610,  0.1091,  0.0840],\n",
      "        [-0.3910, -0.0938,  0.5548],\n",
      "        [ 0.4304, -0.3181, -0.1483],\n",
      "        [-0.3997,  0.0146, -0.5728],\n",
      "        [-0.5313, -0.1921, -0.1370],\n",
      "        [ 0.4875, -0.4019,  0.1889],\n",
      "        [-0.3219,  0.3361,  0.2514],\n",
      "        [-0.5164,  0.2515, -0.4843],\n",
      "        [-0.0503,  0.1263, -0.2206],\n",
      "        [-0.2921,  0.0953, -0.3169],\n",
      "        [-0.0357,  0.0149,  0.3059],\n",
      "        [ 0.1419, -0.4707,  0.4195],\n",
      "        [ 0.2185, -0.3412, -0.5313],\n",
      "        [-0.2826,  0.4177, -0.5182],\n",
      "        [-0.1164, -0.3453, -0.0264],\n",
      "        [ 0.3396, -0.1004, -0.1734],\n",
      "        [-0.3328,  0.0653,  0.2947],\n",
      "        [-0.3752, -0.2844,  0.1142],\n",
      "        [ 0.1344, -0.1285, -0.2135],\n",
      "        [-0.0963, -0.1470, -0.2072],\n",
      "        [-0.4403, -0.0644, -0.5175],\n",
      "        [ 0.0052,  0.2419,  0.3326],\n",
      "        [ 0.2057, -0.0536, -0.3985],\n",
      "        [-0.0551, -0.4540, -0.1328],\n",
      "        [-0.3223, -0.5723,  0.5321],\n",
      "        [-0.2705, -0.2500, -0.4856],\n",
      "        [-0.5580,  0.1105,  0.1113],\n",
      "        [-0.2954, -0.4481,  0.3426],\n",
      "        [ 0.4489,  0.1435,  0.5658],\n",
      "        [ 0.3594, -0.2633,  0.4005],\n",
      "        [ 0.0957,  0.4208, -0.2516],\n",
      "        [-0.2393,  0.2157,  0.4224],\n",
      "        [ 0.2677,  0.2837,  0.4795],\n",
      "        [-0.3230, -0.3514,  0.3042],\n",
      "        [ 0.4378,  0.5061, -0.0339]], device='cuda:0')\n",
      "tensor([ 0.1173, -0.4896, -0.2714, -0.0115,  0.0364,  0.1899,  0.4618,  0.1385,\n",
      "         0.0636, -0.4866, -0.2742, -0.2134,  0.2749, -0.3938, -0.3285,  0.0605,\n",
      "         0.3220, -0.0266, -0.5151,  0.0578, -0.4769,  0.5351, -0.1203, -0.4453,\n",
      "         0.5601, -0.0897,  0.0916, -0.0738, -0.1913,  0.1583,  0.0201, -0.4151,\n",
      "        -0.3102, -0.2771,  0.5702, -0.4843, -0.0799,  0.5314,  0.2629, -0.1090,\n",
      "         0.4151,  0.4636,  0.0463, -0.3674, -0.3411, -0.3677, -0.0807, -0.3791,\n",
      "         0.2371, -0.2249,  0.3377,  0.3671, -0.2445, -0.4217, -0.1460, -0.1639,\n",
      "         0.5121,  0.4065,  0.3501, -0.4171, -0.4205,  0.1872, -0.4164, -0.5683,\n",
      "        -0.0669, -0.2158,  0.3185,  0.3323,  0.0320, -0.3530, -0.5629,  0.0984,\n",
      "        -0.4053, -0.2541,  0.0042, -0.1354,  0.2849, -0.3844, -0.1110, -0.5657,\n",
      "         0.0410,  0.3462, -0.3627,  0.1291,  0.5485,  0.3381, -0.0423, -0.1198,\n",
      "        -0.4982, -0.4681, -0.0589, -0.1920,  0.3934,  0.2984, -0.5045,  0.1969,\n",
      "        -0.3389,  0.1751,  0.3726,  0.2491], device='cuda:0')\n",
      "tensor([[ 0.0417,  0.0172, -0.0776,  0.0404,  0.0630,  0.0361, -0.0710,  0.0425,\n",
      "          0.0713,  0.0133, -0.0506, -0.0387, -0.0068,  0.0253,  0.0210,  0.0163,\n",
      "          0.0006, -0.0235, -0.0585, -0.0231,  0.0467,  0.0385, -0.0284, -0.0479,\n",
      "          0.0282, -0.0967,  0.0377,  0.0549, -0.0354, -0.0748, -0.0784, -0.0643,\n",
      "          0.0086,  0.0366,  0.0897,  0.0944,  0.0166,  0.0629, -0.0239,  0.0100,\n",
      "         -0.0248, -0.0485,  0.0684, -0.0783,  0.0199, -0.0778,  0.0550, -0.0075,\n",
      "         -0.0515,  0.0541,  0.0644,  0.0696,  0.0663,  0.0935,  0.0300,  0.0793,\n",
      "          0.0410, -0.0664, -0.0654, -0.0917,  0.0011,  0.0004, -0.0113,  0.0754,\n",
      "          0.0034, -0.0151, -0.0224,  0.0848, -0.0256, -0.0210,  0.0731, -0.0770,\n",
      "          0.0669,  0.0699,  0.0362, -0.0234, -0.0792,  0.0352,  0.0489,  0.0911,\n",
      "         -0.0810,  0.0732, -0.0653,  0.0972, -0.0302,  0.0932, -0.0688, -0.0231,\n",
      "         -0.0104,  0.0187, -0.0806, -0.0827,  0.0103,  0.0641,  0.0580, -0.0628,\n",
      "          0.0304, -0.0244, -0.0986,  0.0306],\n",
      "        [-0.0074,  0.0022,  0.0208, -0.0275, -0.0666, -0.0954, -0.0818,  0.0494,\n",
      "         -0.0516, -0.0090,  0.0694,  0.0984, -0.0519, -0.0425, -0.0326,  0.0974,\n",
      "          0.0501,  0.0761,  0.0047, -0.0883, -0.0865, -0.0686, -0.0956,  0.0363,\n",
      "          0.0152,  0.0129, -0.0278, -0.0106,  0.0764,  0.0165,  0.0323, -0.0731,\n",
      "          0.0095, -0.0849, -0.0810,  0.0159,  0.0779, -0.0525, -0.0376,  0.0808,\n",
      "         -0.0984,  0.0429, -0.0042, -0.0476,  0.0064,  0.0240,  0.0368,  0.0792,\n",
      "          0.0205, -0.0843,  0.0729,  0.0965, -0.0138,  0.0541, -0.0815, -0.0624,\n",
      "         -0.0199, -0.0188, -0.0714,  0.0126, -0.0082,  0.0512, -0.0111, -0.0115,\n",
      "         -0.0757,  0.0714, -0.0742, -0.0210, -0.0455, -0.0424,  0.0759, -0.0956,\n",
      "         -0.0759, -0.0054, -0.0329, -0.0799,  0.0540, -0.0942,  0.0984, -0.0158,\n",
      "         -0.0859, -0.0303,  0.0982, -0.0335, -0.0915,  0.0900,  0.0119, -0.0074,\n",
      "         -0.0070, -0.0975,  0.0311,  0.0411,  0.0364, -0.0339,  0.0978,  0.0320,\n",
      "          0.0316, -0.0356,  0.0073, -0.0325],\n",
      "        [-0.0492, -0.0608,  0.0252,  0.0902, -0.0680,  0.0660, -0.0220, -0.0566,\n",
      "          0.0567, -0.0701, -0.0463,  0.0124,  0.0041, -0.0206, -0.0726,  0.0856,\n",
      "          0.0502,  0.0603,  0.0640,  0.0719,  0.0318,  0.0396, -0.0911,  0.0153,\n",
      "         -0.0103, -0.0175,  0.0639,  0.0594,  0.0066,  0.0132, -0.0031,  0.0970,\n",
      "         -0.0265,  0.0712,  0.0112,  0.0481,  0.0790,  0.0601, -0.0836, -0.0444,\n",
      "          0.0637,  0.0494,  0.0481, -0.0983, -0.0087,  0.0291, -0.0556, -0.0411,\n",
      "         -0.0882, -0.0529, -0.0054,  0.0387, -0.0489,  0.0352, -0.0791, -0.0979,\n",
      "         -0.0033, -0.0100, -0.0612, -0.0759, -0.0880,  0.0558, -0.0055,  0.0188,\n",
      "          0.0107,  0.0665,  0.0776, -0.0421, -0.0144, -0.0396,  0.0556, -0.0901,\n",
      "          0.0101,  0.0809,  0.0620, -0.0842,  0.0079, -0.0119,  0.0955, -0.0124,\n",
      "          0.0198,  0.0914,  0.0913,  0.0562, -0.0355, -0.0483,  0.0232, -0.0928,\n",
      "          0.0765,  0.0014, -0.0362,  0.0775,  0.0722,  0.0996,  0.0173,  0.0556,\n",
      "          0.0452,  0.0341,  0.0719, -0.0917]], device='cuda:0')\n",
      "tensor([ 0.0920, -0.0252,  0.0382], device='cuda:0')\n",
      "\n",
      "Check the neural network output before training:\n"
     ]
    }
   ],
   "source": [
    "import pprint\n",
    "\n",
    "# Create a simple neural network\n",
    "hidden_nodes = 100\n",
    "model = torch.nn.Sequential(\n",
    "    torch.nn.Linear(inputs.shape[1],hidden_nodes),\n",
    "    torch.nn.ReLU(),\n",
    "    # torch.nn.Linear(hidden_nodes,hidden_nodes),\n",
    "    # torch.nn.ReLU(),\n",
    "    torch.nn.Linear(hidden_nodes,outputs.shape[1])\n",
    ")\n",
    "model.cuda()\n",
    "\n",
    "print('Weights and bias values before training.')\n",
    "for label in model.state_dict().keys():\n",
    "    x = model.state_dict()[label]\n",
    "    # print('\\n{}: '.format(label))\n",
    "    pprint.pprint(x)\n",
    "\n",
    "print('\\nCheck the neural network output before training:')\n",
    "with torch.no_grad():\n",
    "    model.eval()\n",
    "    test = torch.tensor([0.1, 0.2, 0.3]).cuda()\n",
    "    prediction = model(test)\n",
    "    # print('input: {}, output: {}'.format(test,prediction))"
   ]
  },
  {
   "cell_type": "code",
   "execution_count": 18,
   "metadata": {
    "scrolled": true
   },
   "outputs": [
    {
     "name": "stdout",
     "output_type": "stream",
     "text": [
      "=>Starting 1/500 epochs.\n",
      "=>Starting 11/500 epochs.\n",
      "=>Starting 21/500 epochs.\n",
      "=>Starting 31/500 epochs.\n",
      "=>Starting 41/500 epochs.\n",
      "=>Starting 51/500 epochs.\n",
      "=>Starting 61/500 epochs.\n",
      "=>Starting 71/500 epochs.\n",
      "=>Starting 81/500 epochs.\n",
      "=>Starting 91/500 epochs.\n",
      "=>Starting 101/500 epochs.\n",
      "=>Starting 111/500 epochs.\n",
      "=>Starting 121/500 epochs.\n",
      "=>Starting 131/500 epochs.\n",
      "=>Starting 141/500 epochs.\n",
      "=>Starting 151/500 epochs.\n",
      "=>Starting 161/500 epochs.\n",
      "=>Starting 171/500 epochs.\n",
      "=>Starting 181/500 epochs.\n",
      "=>Starting 191/500 epochs.\n",
      "=>Starting 201/500 epochs.\n",
      "=>Starting 211/500 epochs.\n",
      "=>Starting 221/500 epochs.\n",
      "=>Starting 231/500 epochs.\n",
      "=>Starting 241/500 epochs.\n",
      "=>Starting 251/500 epochs.\n",
      "=>Starting 261/500 epochs.\n",
      "=>Starting 271/500 epochs.\n",
      "=>Starting 281/500 epochs.\n",
      "=>Starting 291/500 epochs.\n",
      "=>Starting 301/500 epochs.\n",
      "=>Starting 311/500 epochs.\n",
      "=>Starting 321/500 epochs.\n",
      "=>Starting 331/500 epochs.\n",
      "=>Starting 341/500 epochs.\n",
      "=>Starting 351/500 epochs.\n",
      "=>Starting 361/500 epochs.\n",
      "=>Starting 371/500 epochs.\n",
      "=>Starting 381/500 epochs.\n",
      "=>Starting 391/500 epochs.\n",
      "=>Starting 401/500 epochs.\n",
      "=>Starting 411/500 epochs.\n",
      "=>Starting 421/500 epochs.\n",
      "=>Starting 431/500 epochs.\n",
      "=>Starting 441/500 epochs.\n",
      "=>Starting 451/500 epochs.\n",
      "=>Starting 461/500 epochs.\n",
      "=>Starting 471/500 epochs.\n",
      "=>Starting 481/500 epochs.\n",
      "=>Starting 491/500 epochs.\n",
      "Training done!\n"
     ]
    }
   ],
   "source": [
    "import math\n",
    "\n",
    "# Get ready to train\n",
    "model.train()\n",
    "\n",
    "# Break the list up into smaller batches for more efficient training\n",
    "numMiniBatch = int(math.floor(inputs.shape[0]/100.))\n",
    "inputMiniBatches = inputs.chunk(numMiniBatch)\n",
    "outputMiniBatches = outputs.chunk(numMiniBatch)\n",
    "\n",
    "# Train the neural network\n",
    "lossFunc = torch.nn.MSELoss()\n",
    "optimizer = torch.optim.Adam(model.parameters(),lr=1e-4)\n",
    "\n",
    "n_epochs = 500\n",
    "for epoch in range(n_epochs):\n",
    "    # Print something every 10 epochs of training\n",
    "    if epoch%10 == 0:\n",
    "        print('=>Starting {}/{} epochs.'.format(epoch+1,n_epochs))\n",
    "    for minibatch in range(numMiniBatch):\n",
    "        prediction = model(inputMiniBatches[minibatch])\n",
    "        loss = lossFunc(prediction,outputMiniBatches[minibatch])\n",
    "        optimizer.zero_grad()\n",
    "        loss.backward()\n",
    "        optimizer.step()\n",
    "    \n",
    "    # Plot two points on the loss graph for each epoch, one for testing and one for training.\n",
    "    total_prediction = model(inputs)\n",
    "    total_loss = lossFunc(total_prediction, outputs).item()\n",
    "    test_total_prediction = model(test_inputs)\n",
    "    test_total_loss = lossFunc(test_total_prediction, test_outputs).item()\n",
    "    ax_loss.plot(epoch, total_loss, 'bo', markersize=1, label='Training')\n",
    "    ax_loss.plot(epoch, test_total_loss, 'go', markersize=1, label='Testing')\n",
    "    ax_loss.set_xlabel('Epochs')\n",
    "    ax_loss.set_ylabel('Total Loss')\n",
    "# ax_loss.legend() # I didn't find an easy way to add a legend for this particular graph\n",
    "    \n",
    "\n",
    "\n",
    "print ('Training done!')"
   ]
  },
  {
   "cell_type": "code",
   "execution_count": 19,
   "metadata": {},
   "outputs": [
    {
     "data": {
      "image/png": "[encoded data removed]",
      "text/plain": [
       "<Figure size 432x288 with 1 Axes>"
      ]
     },
     "execution_count": 19,
     "metadata": {},
     "output_type": "execute_result"
    }
   ],
   "source": [
    "fig_loss"
   ]
  },
  {
   "cell_type": "code",
   "execution_count": null,
   "metadata": {},
   "outputs": [],
   "source": [
    "# fig_loss.savefig('loss.pdf')"
   ]
  },
  {
   "cell_type": "code",
   "execution_count": 20,
   "metadata": {},
   "outputs": [
    {
     "name": "stdout",
     "output_type": "stream",
     "text": [
      "input: tensor([0.1000, 0.2000, 0.3000], device='cuda:0'), prediction: tensor([0.0108, 0.0277, 0.0797], device='cuda:0')\n"
     ]
    }
   ],
   "source": [
    "# test a single input, not very useful\n",
    "with torch.no_grad():\n",
    "    model.eval()\n",
    "    test = torch.tensor([0.1, 0.2, 0.3]).cuda()\n",
    "    prediction = model(test)\n",
    "    print('input: {}, prediction: {}'.format(test,prediction))"
   ]
  },
  {
   "cell_type": "code",
   "execution_count": 21,
   "metadata": {},
   "outputs": [
    {
     "data": {
      "image/png": "[encoded data removed]",
      "text/plain": [
       "<Figure size 432x288 with 1 Axes>"
      ]
     },
     "metadata": {
      "needs_background": "light"
     },
     "output_type": "display_data"
    },
    {
     "data": {
      "image/png": "[encoded data removed]",
      "text/plain": [
       "<Figure size 432x288 with 1 Axes>"
      ]
     },
     "metadata": {
      "needs_background": "light"
     },
     "output_type": "display_data"
    },
    {
     "data": {
      "image/png": "[encoded data removed]",
      "text/plain": [
       "<Figure size 432x288 with 1 Axes>"
      ]
     },
     "metadata": {
      "needs_background": "light"
     },
     "output_type": "display_data"
    }
   ],
   "source": [
    "# Check out the output by running the model in evaluation\n",
    "# make some residual plots\n",
    "\n",
    "fig, ax = plt.subplots()\n",
    "fig2, ax2 = plt.subplots()\n",
    "fig3, ax3 = plt.subplots()\n",
    "\n",
    "\n",
    "# this can be easily modified to plot output vs. input directly\n",
    "with torch.no_grad():\n",
    "    model.eval()\n",
    "    for input in test_inputs:\n",
    "        prediction = model(input)\n",
    "        actual = input ** 2\n",
    "        residual = actual - prediction\n",
    "        ax.plot(input[0].item(),residual[0].item(), 'bo', markersize=1)\n",
    "        ax.set_xlabel('1st coordinate input')\n",
    "        ax.set_ylabel('1st coordinate error')\n",
    "        ax2.plot(input[1].item(),residual[1].item(), 'go', markersize=1)\n",
    "        ax2.set_xlabel('2nd coordinate input')\n",
    "        ax2.set_ylabel('2nd coordinate error')\n",
    "        ax3.plot(input[2].item(),residual[2].item(), 'co', markersize=1)\n",
    "        ax3.set_xlabel('3rd coordinate input')\n",
    "        ax3.set_ylabel('3rd coordinate error')"
   ]
  },
  {
   "cell_type": "code",
   "execution_count": null,
   "metadata": {},
   "outputs": [],
   "source": []
  },
  {
   "cell_type": "code",
   "execution_count": null,
   "metadata": {},
   "outputs": [],
   "source": [
    "# fig.savefig('1st-1st.pdf')\n",
    "# fig2.savefig('2nd-2nd.pdf')\n",
    "# fig3.savefig('3rd-3rd.pdf')"
   ]
  },
  {
   "cell_type": "code",
   "execution_count": null,
   "metadata": {},
   "outputs": [],
   "source": [
    "# NOT TESTED\n",
    "# Let's look at the weights and biases\n",
    "# Check the math by hand\n",
    "A = model.state_dict()['0.weight'].tolist()\n",
    "a = model.state_dict()['0.bias'].tolist()\n",
    "print('\\nWeights and biases for first layer.')\n",
    "pprint.pprint(A)\n",
    "print()\n",
    "pprint.pprint(a)\n",
    "\n",
    "B = model.state_dict()['2.weight'].tolist()\n",
    "b = model.state_dict()['2.bias'].tolist()\n",
    "print('\\nWeights and biases for second layer.')\n",
    "pprint.pprint(B)\n",
    "print()\n",
    "pprint.pprint(b)"
   ]
  },
  {
   "cell_type": "code",
   "execution_count": null,
   "metadata": {},
   "outputs": [],
   "source": [
    "# Work out the details\n",
    "x0 = test[0].item()\n",
    "x1 = test[1].item()\n",
    "x2 = test[2].item()\n",
    "\n",
    "print('Input to neural network:')\n",
    "print('x0={:7.4f}, x1={:7.4f},x2={:7.4f}'.format(x0,x1,x2))\n",
    "\n",
    "# Check the math by hand\n",
    "A = model.state_dict()['0.weight'].tolist()\n",
    "a = model.state_dict()['0.bias'].tolist()\n",
    "\n",
    "sum0 = A[0][0]*x0+A[0][1]*x1+A[0][2]*x2+a[0]\n",
    "sum1 = A[1][0]*x0+A[1][1]*x1+A[1][2]*x2+a[1]\n",
    "sum2 = A[2][0]*x0+A[2][1]*x1+A[2][2]*x2+a[2]\n",
    "print('\\nSums for first layer:')\n",
    "print('{:7.4f} = {:7.4f} * {:7.4f} + {:7.4f} * {:7.4f} + {:7.4f} * {:7.4f} + {:7.4f}'.format(sum0,A[0][0],x0,A[0][1],x1,A[0][2],x2,a[0]))\n",
    "print('{:7.4f} = {:7.4f} * {:7.4f} + {:7.4f} * {:7.4f} + {:7.4f} * {:7.4f} + {:7.4f}'.format(sum1,A[1][0],x0,A[1][1],x1,A[1][2],x2,a[1]))\n",
    "print('{:7.4f} = {:7.4f} * {:7.4f} + {:7.4f} * {:7.4f} + {:7.4f} * {:7.4f} + {:7.4f}'.format(sum2,A[2][0],x0,A[2][1],x1,A[2][2],x2,a[2]))\n",
    "\n",
    "y0 = max(sum0,0)\n",
    "y1 = max(sum1,0)\n",
    "y2 = max(sum2,0)\n",
    "print('\\nApplying the ReLU to the sums:')\n",
    "print('y0 = {:7.4f} = ReLU({:7.4f})'.format(y0,sum0))\n",
    "print('y1 = {:7.4f} = ReLU({:7.4f})'.format(y1,sum1))\n",
    "print('y2 = {:7.4f} = ReLU({:7.4f})'.format(y2,sum2))\n",
    "\n",
    "B = model.state_dict()['2.weight'].tolist()\n",
    "b = model.state_dict()['2.bias'].tolist()\n",
    "\n",
    "z0 = B[0][0]*y0+B[0][1]*y1+B[0][2]*y2+b[0]\n",
    "z1 = B[1][0]*y0+B[1][1]*y1+B[1][2]*y2+b[1]\n",
    "z2 = B[2][0]*y0+B[2][1]*y1+B[2][2]*y2+b[2]\n",
    "print('\\nCalculating the final output:')\n",
    "print('z0 = {:7.4f} = {:7.4f} * {:7.4f} + {:7.4f} * {:7.4f} + {:7.4f} * {:7.4f} + {:7.4f}'.format(z0,B[0][0],y0,B[0][1],y1,B[0][2],y2,b[0]))\n",
    "print('z1 = {:7.4f} = {:7.4f} * {:7.4f} + {:7.4f} * {:7.4f} + {:7.4f} * {:7.4f} + {:7.4f}'.format(z1,B[1][0],y0,B[1][1],y1,B[1][2],y2,b[1]))\n",
    "print('z2 = {:7.4f} = {:7.4f} * {:7.4f} + {:7.4f} * {:7.4f} + {:7.4f} * {:7.4f} + {:7.4f}'.format(z2,B[2][0],y0,B[2][1],y1,B[2][2],y2,b[2]))"
   ]
  }
 ],
 "metadata": {
  "kernelspec": {
   "display_name": "Python 3",
   "language": "python",
   "name": "python3"
  },
  "language_info": {
   "codemirror_mode": {
    "name": "ipython",
    "version": 3
   },
   "file_extension": ".py",
   "mimetype": "text/x-python",
   "name": "python",
   "nbconvert_exporter": "python",
   "pygments_lexer": "ipython3",
   "version": "3.6.8"
  }
 },
 "nbformat": 4,
 "nbformat_minor": 4
}
