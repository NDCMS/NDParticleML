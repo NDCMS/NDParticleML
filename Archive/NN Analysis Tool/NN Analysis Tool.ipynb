{
 "cells": [
  {
   "cell_type": "code",
   "execution_count": 1,
   "metadata": {},
   "outputs": [],
   "source": [
    "import torch\n",
    "import numpy as np\n",
    "import matplotlib.pyplot as plt\n",
    "import math\n",
    "import time\n",
    "import pandas as pd\n",
    "from pandas import read_csv"
   ]
  },
  {
   "cell_type": "code",
   "execution_count": 2,
   "metadata": {},
   "outputs": [],
   "source": [
    "# Create a simple neural network with layer variabliltiy\n",
    "def neural_net_testing(hidden_nodes=100, layer_num = 0):\n",
    "    \n",
    "    layers = [torch.nn.Linear(inputs.shape[1],hidden_nodes),torch.nn.ReLU()]\n",
    "    for i in range(layer_num):\n",
    "        layers.append(torch.nn.Linear(hidden_nodes,hidden_nodes))\n",
    "        layers.append(torch.nn.ReLU())\n",
    "    layers.append(torch.nn.Linear(hidden_nodes,outputs.shape[1]))\n",
    "    model = torch.nn.Sequential(*layers)\n",
    "    # include different number of nodes per layer functionality\n",
    "    #list with nodes per layer\n",
    "    return (model.cuda(), hidden_nodes, layer_num)\n",
    "\n",
    "# Sets error calculations\n",
    "def abs_err(pred, act):\n",
    "    return abs(pred-act)\n",
    "def rel_err(pred, act):\n",
    "    return abs_err(pred, act)/act\n",
    "def update_run_data(model, nodes, layers, n_epochs, time_data):\n",
    "    test_inputs = torch.randn((1000,N),dtype=torch.float32).cuda()\n",
    "    test_outputs = test_inputs ** 2\n",
    "    num = 0\n",
    "    with torch.no_grad():\n",
    "        model.eval()\n",
    "        prediction = model(test_inputs)\n",
    "        for i in list(range(len(prediction))):\n",
    "            if (abs_err(prediction[i][0], test_outputs[i][0]) < 0.01 or rel_err(prediction[i][0], test_outputs[i][0]) < 0.01):\n",
    "                num += 1\n",
    "        run_data.append([(str(nodes)+\" nodes\"), (str(layers)+\" layers\"), (str(n_epochs)+\" epochs\"), (str(time_data)+\" seconds\"), (str(math.trunc(num/len(test_outputs)*100))+\"% accuracy\")])\n",
    "        model_dataset.append(model)\n",
    "        node_dataset.append(nodes)\n",
    "        layer_dataset.append(layers)\n",
    "        n_epoch_dataset.append(n_epochs)\n",
    "        time_dataset.append(time_data)\n",
    "        error_dataset.append(str(math.trunc(num/len(test_outputs)*100)))\n",
    "\n",
    "def run_network(model, num_epochs = 500):\n",
    "    # Get ready to train\n",
    "    start_time = time.time()\n",
    "    model.train()\n",
    "\n",
    "    # Break the list up into smaller batches for more efficient training\n",
    "    numMiniBatch = int(math.floor(inputs.shape[0]/100.))\n",
    "    inputMiniBatches = inputs.chunk(numMiniBatch)\n",
    "    outputMiniBatches = outputs.chunk(numMiniBatch)\n",
    "\n",
    "    # Train the neural network\n",
    "    lossFunc = torch.nn.MSELoss()\n",
    "    optimizer = torch.optim.Adam(model.parameters(),lr=1e-4)\n",
    "\n",
    "    n_epochs = num_epochs\n",
    "\n",
    "    loss_vals = []\n",
    "    loss_epochs = []\n",
    "    test_loss_vals = []\n",
    "    test_loss_epochs = []\n",
    "    accu_vals = []\n",
    "    accu_epochs = []\n",
    "    accupts_vals = []\n",
    "    accupts_epochs = []\n",
    "\n",
    "    for epoch in range(n_epochs):\n",
    "        # Print something every 10 epochs of training\n",
    "        # Plot accuracy every 10 epochs\n",
    "        if epoch%10 == 0:\n",
    "            print('=>Starting {}/{} epochs.'.format(epoch+1,n_epochs))\n",
    "\n",
    "            with torch.no_grad():\n",
    "                model.eval()\n",
    "                prediction_temp = model(test_inputs)\n",
    "                total_num = torch.numel(test_inputs)\n",
    "                \n",
    "            model.train()\n",
    "\n",
    "        for minibatch in range(numMiniBatch):\n",
    "            prediction = model(inputMiniBatches[minibatch])\n",
    "            loss = lossFunc(prediction,outputMiniBatches[minibatch])\n",
    "            optimizer.zero_grad()\n",
    "            loss.backward()\n",
    "            optimizer.step()\n",
    "\n",
    "        # Plot two points on the loss graph for each epoch, one for testing and one for training.\n",
    "        with torch.no_grad():\n",
    "            model.eval()\n",
    "            total_prediction_temp = model(inputs)\n",
    "            total_loss_temp = lossFunc(total_prediction_temp, outputs).item()\n",
    "            test_total_prediction_temp = model(test_inputs)\n",
    "            test_total_loss_temp = lossFunc(test_total_prediction_temp, test_outputs).item()\n",
    "            loss_vals = np.append(loss_vals, total_loss_temp)\n",
    "            loss_epochs = np.append(loss_epochs, epoch)\n",
    "            test_loss_vals = np.append(test_loss_vals, test_total_loss_temp)\n",
    "            test_loss_epochs = np.append(test_loss_epochs, epoch)\n",
    "        model.train()\n",
    "\n",
    "    #print ('Training done!')\n",
    "    #print (\"--- %s seconds ---\" % (time.time() - start_time))\n",
    "    time_data = (time.time() - start_time)\n",
    "    return (model, n_epochs, time_data)"
   ]
  },
  {
   "cell_type": "code",
   "execution_count": 3,
   "metadata": {},
   "outputs": [],
   "source": [
    "# Create a list of sets of N random numbers\n",
    "N = 3\n",
    "inputs = (10 * torch.rand((10000,N),dtype=torch.float32) - 5).cuda()\n",
    "outputs = inputs ** 2\n",
    "test_inputs = torch.randn((1000,N),dtype=torch.float32).cuda()\n",
    "test_outputs = test_inputs ** 2"
   ]
  },
  {
   "cell_type": "code",
   "execution_count": 4,
   "metadata": {},
   "outputs": [],
   "source": [
    "#Generates list of numbers for nodes and layers that multiply to 1000\n",
    "#Note that any list of nested lists can be passed with the 0 index being nodes and the 1 index being layers\n",
    "#As long as the layers is less than 255\n",
    "\n",
    "param_list = []\n",
    "for i in range(1000):\n",
    "    if (1000%(i+1) == 0) & (round(1000/(i+1)<155)):\n",
    "        param_list.append([i+1, round(1000/(i+1))])\n",
    "#print(param_list)"
   ]
  },
  {
   "cell_type": "code",
   "execution_count": 25,
   "metadata": {},
   "outputs": [],
   "source": [
    "#Initializes Data Sets\n",
    "\n",
    "run_data = []\n",
    "model_dataset = []\n",
    "node_dataset = []\n",
    "layer_dataset = []\n",
    "n_epoch_dataset = []\n",
    "time_dataset = []\n",
    "error_dataset = []"
   ]
  },
  {
   "cell_type": "code",
   "execution_count": 45,
   "metadata": {},
   "outputs": [],
   "source": [
    "# Executes sequence and places data into run_data\n",
    "\n",
    "#for i in param_list:\n",
    "\n",
    "list_temp = [[100, 8]]#, [100, 5], [100, 4], [100, 2], [100, 1], [500, 125], [500, 100], [500, 50], [500, 40], [500, 25], [500, 20], [500, 10], [500, 8], [500, 5], [500, 4], [500, 3], [500, 1]]#, [8, 2], [10, 2], [20, 2], [25, 2], [40, 2], [50, 2], [100, 2], [125, 2], [200, 2], [250, 2], [1000, 2]]\n",
    "\n",
    "for i in list_temp:\n",
    "    output = neural_net_testing(i[0], i[1])\n",
    "    model = output[0]\n",
    "    hidden_nodes = output[1]\n",
    "    layer_num = output[2]\n",
    "    output_2 = run_network(model)\n",
    "    model = output_2[0]\n",
    "    n_epochs = output_2[1]\n",
    "    time_data = output_2[2]\n",
    "    update_run_data(model, hidden_nodes, layer_num, n_epochs, time_data)\n",
    "# Creates data frame of the data\n",
    "data_dict = {\"Nodes\":node_dataset, \"Layers\":layer_dataset, \"Epochs\":n_epoch_dataset, \"Time\":time_dataset, \"Accuracy %\":error_dataset}\n",
    "df = pd.DataFrame(data=data_dict)\n",
    "print(run_data)\n",
    "print ('Training done!')"
   ]
  },
  {
   "cell_type": "code",
   "execution_count": 27,
   "metadata": {},
   "outputs": [],
   "source": [
    "data_dict = {\"Nodes\":node_dataset, \"Layers\":layer_dataset, \"Epochs\":n_epoch_dataset, \"Time\":time_dataset, \"Accuracy %\":error_dataset}\n",
    "df = pd.DataFrame(data=data_dict)"
   ]
  },
  {
   "cell_type": "code",
   "execution_count": 30,
   "metadata": {},
   "outputs": [
    {
     "name": "stdout",
     "output_type": "stream",
     "text": [
      "     Nodes  Layers  Epochs         Time  Accuracy %\n",
      "0      8.0   125.0   500.0  2109.106663         0.0\n",
      "1     10.0   100.0   500.0  1602.320417         0.0\n",
      "2     20.0    50.0   500.0   901.471942         4.0\n",
      "3     25.0    40.0   500.0   762.617880         1.0\n",
      "4     40.0    25.0   500.0   519.008795         1.0\n",
      "5     50.0    20.0   500.0   420.338205         1.0\n",
      "6    100.0    10.0   500.0   237.778120        18.0\n",
      "7    125.0     8.0   500.0   185.446167        32.0\n",
      "8    200.0     5.0   500.0   126.881377        33.0\n",
      "9    250.0     4.0   500.0   107.282485        46.0\n",
      "10   500.0     2.0   500.0    69.688906        88.0\n",
      "11  1000.0     1.0   500.0    45.948215         0.0\n"
     ]
    }
   ],
   "source": [
    "print(df)"
   ]
  },
  {
   "cell_type": "code",
   "execution_count": 33,
   "metadata": {},
   "outputs": [],
   "source": [
    "#uploads existing data and adds it to working dataset\n",
    "#file_upload = read_csv(\"NN_Test_Data_1.csv\")\n",
    "#print(file_upload)\n",
    "#df = df.append(file_upload)"
   ]
  },
  {
   "cell_type": "code",
   "execution_count": 16,
   "metadata": {},
   "outputs": [],
   "source": [
    "df=df.astype(float)"
   ]
  },
  {
   "cell_type": "code",
   "execution_count": 31,
   "metadata": {},
   "outputs": [
    {
     "data": {
      "image/png": "[encoded data removed]",
      "text/plain": [
       "<Figure size 432x288 with 4 Axes>"
      ]
     },
     "metadata": {
      "needs_background": "light"
     },
     "output_type": "display_data"
    }
   ],
   "source": [
    "fig, axes = plt.subplots(nrows=2, ncols=2)\n",
    "\n",
    "df.plot(x=\"Nodes\",y=\"Accuracy %\", ax=axes[0,0]); axes[0,0].set_title('Nodes')\n",
    "\n",
    "df.plot(x=\"Layers\",y=\"Accuracy %\", ax=axes[0,1]); axes[0,1].set_title('Layers')\n",
    "\n",
    "df.plot(x=\"Time\",y=\"Accuracy %\", ax=axes[1,0]); axes[1,0].set_title('Time')\n",
    "\n",
    "df.plot(x=\"Epochs\",y=\"Accuracy %\", ax=axes[1,1]); axes[1,1].set_title('Epochs')\n",
    "\n",
    "plt.tight_layout()"
   ]
  },
  {
   "cell_type": "code",
   "execution_count": 32,
   "metadata": {},
   "outputs": [
    {
     "data": {
      "image/png": "[encoded data removed]",
      "text/plain": [
       "<Figure size 432x288 with 4 Axes>"
      ]
     },
     "metadata": {
      "needs_background": "light"
     },
     "output_type": "display_data"
    }
   ],
   "source": [
    "fig, axes = plt.subplots(nrows=2, ncols=2)\n",
    "\n",
    "df['Nodes'].plot(ax=axes[0,0]); axes[0,0].set_title('Nodes')\n",
    "\n",
    "df['Layers'].plot(ax=axes[0,1]); axes[0,1].set_title('Layers')\n",
    "\n",
    "df['Time'].plot(ax=axes[1,0]); axes[1,0].set_title('Time')\n",
    "\n",
    "df['Accuracy %'].plot(ax=axes[1,1]); axes[1,1].set_title('Accuracy %')\n",
    "\n",
    "plt.tight_layout()"
   ]
  },
  {
   "cell_type": "code",
   "execution_count": null,
   "metadata": {},
   "outputs": [],
   "source": [
    "#Saves run data as csv file\n",
    "#df.to_csv(\"NN_Test_Data_1.csv\", index=False)"
   ]
  }
 ],
 "metadata": {
  "kernelspec": {
   "display_name": "Python 3",
   "language": "python",
   "name": "python3"
  },
  "language_info": {
   "codemirror_mode": {
    "name": "ipython",
    "version": 3
   },
   "file_extension": ".py",
   "mimetype": "text/x-python",
   "name": "python",
   "nbconvert_exporter": "python",
   "pygments_lexer": "ipython3",
   "version": "3.6.8"
  }
 },
 "nbformat": 4,
 "nbformat_minor": 4
}
