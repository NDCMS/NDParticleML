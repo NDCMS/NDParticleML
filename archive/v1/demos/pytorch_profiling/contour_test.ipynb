{
 "cells": [
  {
   "cell_type": "code",
   "execution_count": 1,
   "id": "46904b57",
   "metadata": {},
   "outputs": [],
   "source": [
    "import NN_Module as nnm\n",
    "import torch\n",
    "import numpy as np\n",
    "import numpy.ma as ma\n",
    "from mpl_toolkits import mplot3d\n",
    "import matplotlib.pyplot as plt\n",
    "import math\n",
    "import time\n",
    "import pandas as pd\n",
    "from pandas import read_csv\n",
    "import argparse\n",
    "from matplotlib.backends.backend_pdf import PdfPages"
   ]
  },
  {
   "cell_type": "code",
   "execution_count": 2,
   "id": "ed89953e",
   "metadata": {},
   "outputs": [],
   "source": [
    "out_file = '3169_0'"
   ]
  },
  {
   "cell_type": "code",
   "execution_count": 3,
   "id": "7a81ccb7",
   "metadata": {},
   "outputs": [],
   "source": [
    "names = {}\n",
    "names['cQei'] = 0\n",
    "names['cQl3i'] = 1\n",
    "names['cQlMi'] = 2\n",
    "names['cbW'] = 3\n",
    "names['cpQ3'] = 4\n",
    "names['cpQM'] = 5\n",
    "names['cpt'] = 6\n",
    "names['cptb'] = 7\n",
    "names['ctG'] = 8\n",
    "names['ctW'] = 9\n",
    "names['ctZ'] = 10\n",
    "names['ctei'] = 11\n",
    "names['ctlSi'] = 12\n",
    "names['ctlTi'] = 13\n",
    "names['ctli'] = 14\n",
    "names['ctp'] = 15\n",
    "\n",
    "WC_to_analyze_1 = ['cpQ3', 'cpQM', 'cpt', 'cptb', 'cQei', 'ctei', 'ctli', 'ctW'] # The first of the two WCs to graph\n",
    "WC_to_analyze_2 = ['cbW', 'ctG', 'ctp', 'cQl3i', 'cQlMi', 'ctlTi', 'ctlSi', 'ctZ'] # The second of the two WCs to graph"
   ]
  },
  {
   "cell_type": "code",
   "execution_count": 4,
   "id": "234bd124",
   "metadata": {},
   "outputs": [],
   "source": [
    "save_dict = torch.load(f'./{out_file}_model+.pt')\n",
    "best_model_state = save_dict['model']\n",
    "parameters_save = save_dict['parameters']\n",
    "input_stats = save_dict['input_stats']\n",
    "output_stats = save_dict['output_stats']"
   ]
  },
  {
   "cell_type": "code",
   "execution_count": 5,
   "id": "6b191d91",
   "metadata": {},
   "outputs": [
    {
     "data": {
      "text/plain": [
       "device(type='cuda', index=0)"
      ]
     },
     "execution_count": 5,
     "metadata": {},
     "output_type": "execute_result"
    }
   ],
   "source": [
    "# Check to make sure we're on cuda\n",
    "input_stats[0].device"
   ]
  },
  {
   "cell_type": "code",
   "execution_count": 6,
   "id": "a7a0ab13",
   "metadata": {},
   "outputs": [
    {
     "name": "stdout",
     "output_type": "stream",
     "text": [
      "deltaNLL\n",
      "cpQ3\n",
      "cbW\n"
     ]
    }
   ],
   "source": [
    "# Examine the npz files containing data in CMS-TOP-19-001\n",
    "loaded = np.load(f'likelihood_cpQ3_cbW.npz')\n",
    "for x in loaded.keys():\n",
    "    print (x)"
   ]
  },
  {
   "cell_type": "code",
   "execution_count": 7,
   "id": "4f10acc9",
   "metadata": {},
   "outputs": [
    {
     "data": {
      "text/plain": [
       "(90030,)"
      ]
     },
     "execution_count": 7,
     "metadata": {},
     "output_type": "execute_result"
    }
   ],
   "source": [
    "loaded['cpQ3'].shape"
   ]
  },
  {
   "cell_type": "code",
   "execution_count": 8,
   "id": "5e5ab1a8",
   "metadata": {},
   "outputs": [
    {
     "data": {
      "text/plain": [
       "(90030,)"
      ]
     },
     "execution_count": 8,
     "metadata": {},
     "output_type": "execute_result"
    }
   ],
   "source": [
    "loaded['cbW'].shape"
   ]
  },
  {
   "cell_type": "code",
   "execution_count": 9,
   "id": "a94775e0",
   "metadata": {},
   "outputs": [
    {
     "data": {
      "text/plain": [
       "(90030,)"
      ]
     },
     "execution_count": 9,
     "metadata": {},
     "output_type": "execute_result"
    }
   ],
   "source": [
    "loaded['deltaNLL'].shape"
   ]
  },
  {
   "cell_type": "code",
   "execution_count": 10,
   "id": "184f1000",
   "metadata": {},
   "outputs": [
    {
     "data": {
      "text/plain": [
       "-9.966666"
      ]
     },
     "execution_count": 10,
     "metadata": {},
     "output_type": "execute_result"
    }
   ],
   "source": [
    "loaded['cbW'][9004]"
   ]
  },
  {
   "cell_type": "code",
   "execution_count": 45,
   "id": "be6b573d",
   "metadata": {},
   "outputs": [
    {
     "data": {
      "image/png": "[encoded data removed]",
      "text/plain": [
       "<Figure size 432x288 with 1 Axes>"
      ]
     },
     "metadata": {
      "needs_background": "light"
     },
     "output_type": "display_data"
    }
   ],
   "source": [
    "# Make the contour plot\n",
    "# Found this table for the values of 1, 2, and 3 sigmas: http://www.reid.ai/2012/09/chi-squared-distribution-table-with.html\n",
    "fig, ax = plt.subplots()\n",
    "actual_contour = ax.tricontour(loaded['cbW'], loaded['cpQ3'], 2*loaded['deltaNLL'], colors='k', linestyles=['dashed', 'dashdot', 'dotted'], levels=[2.30, 6.18, 11.83]) # 1, 2, and 3 sigmas\n",
    "SM_value = ax.scatter(0, 0, marker='d', c='none', ec='royalblue', s=30, linewidths=1)\n",
    "ax.legend(actual_contour.collections+[SM_value], ['$1\\sigma$', '$2\\sigma$', '$3\\sigma$', 'SM value'])\n",
    "ax.set_xlabel('cbW')\n",
    "ax.set_ylabel('cpQ3')\n",
    "fig.tight_layout()"
   ]
  },
  {
   "cell_type": "code",
   "execution_count": null,
   "id": "d2cde43d",
   "metadata": {},
   "outputs": [],
   "source": []
  },
  {
   "cell_type": "code",
   "execution_count": null,
   "id": "6bb79898",
   "metadata": {},
   "outputs": [],
   "source": [
    "# Test out a simple contour plot\n",
    "delta = 0.025\n",
    "x = np.arange(-3.0, 3.0, delta)\n",
    "y = np.arange(-2.0, 2.0, delta)\n",
    "X, Y = np.meshgrid(x, y)\n",
    "Z1 = np.exp(-X**2 - Y**2)\n",
    "Z2 = np.exp(-(X - 1)**2 - (Y - 1)**2)\n",
    "Z = (Z1 - Z2) * 2"
   ]
  },
  {
   "cell_type": "code",
   "execution_count": null,
   "id": "cbd413a1",
   "metadata": {},
   "outputs": [],
   "source": [
    "fig, ax = plt.subplots()\n",
    "CS = ax.contour(X, Y, Z)\n",
    "ax.clabel(CS, inline=True, fontsize=10)\n",
    "ax.set_title('Simplest default with labels')"
   ]
  },
  {
   "cell_type": "code",
   "execution_count": null,
   "id": "af0892c0",
   "metadata": {},
   "outputs": [],
   "source": []
  }
 ],
 "metadata": {
  "kernelspec": {
   "display_name": "Python 3 (ipykernel)",
   "language": "python",
   "name": "python3"
  },
  "language_info": {
   "codemirror_mode": {
    "name": "ipython",
    "version": 3
   },
   "file_extension": ".py",
   "mimetype": "text/x-python",
   "name": "python",
   "nbconvert_exporter": "python",
   "pygments_lexer": "ipython3",
   "version": "3.8.10"
  }
 },
 "nbformat": 4,
 "nbformat_minor": 5
}
