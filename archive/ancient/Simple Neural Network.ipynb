{
 "cells": [
  {
   "cell_type": "code",
   "execution_count": 1,
   "metadata": {},
   "outputs": [],
   "source": [
    "import torch\n",
    "\n",
    "# Create a list of sets of N random numbers\n",
    "N = 3\n",
    "inputs = torch.randn((10000,N),dtype=torch.float32)\n",
    "outputs = inputs"
   ]
  },
  {
   "cell_type": "code",
   "execution_count": 3,
   "metadata": {},
   "outputs": [
    {
     "name": "stdout",
     "output_type": "stream",
     "text": [
      "Weights and bias values before training.\n",
      "\n",
      "0.weight: \n",
      "tensor([[-0.3758,  0.1270,  0.2587],\n",
      "        [ 0.1623, -0.4476,  0.1158],\n",
      "        [ 0.1029,  0.3594, -0.3168]])\n",
      "\n",
      "0.bias: \n",
      "tensor([ 0.4459, -0.0161, -0.3755])\n",
      "\n",
      "2.weight: \n",
      "tensor([[-0.2851, -0.1429,  0.1870],\n",
      "        [ 0.2814, -0.4795, -0.1557],\n",
      "        [ 0.0812,  0.0301,  0.0105]])\n",
      "\n",
      "2.bias: \n",
      "tensor([-0.1628,  0.0920,  0.4408])\n",
      "\n",
      "Check the neural network output before training:\n",
      "input: tensor([0.1000, 0.2000, 0.3000]), output: tensor([-0.3086,  0.2358,  0.4823])\n"
     ]
    }
   ],
   "source": [
    "import pprint\n",
    "\n",
    "# Create a simple neural network\n",
    "hidden_nodes = 3\n",
    "model = torch.nn.Sequential(\n",
    "    torch.nn.Linear(inputs.shape[1],hidden_nodes),\n",
    "    torch.nn.ReLU(),\n",
    "    torch.nn.Linear(hidden_nodes,outputs.shape[1])\n",
    ")\n",
    "\n",
    "print('Weights and bias values before training.')\n",
    "for label in model.state_dict().keys():\n",
    "  x = model.state_dict()[label]\n",
    "  print('\\n{}: '.format(label))\n",
    "  pprint.pprint(x)\n",
    "\n",
    "print('\\nCheck the neural network output before training:')\n",
    "with torch.no_grad():\n",
    "  model.eval()\n",
    "  test = torch.tensor([0.1, 0.2, 0.3])\n",
    "  prediction = model(test)\n",
    "  print('input: {}, output: {}'.format(test,prediction))"
   ]
  },
  {
   "cell_type": "code",
   "execution_count": 4,
   "metadata": {},
   "outputs": [
    {
     "name": "stdout",
     "output_type": "stream",
     "text": [
      "=>Starting 1/500 epochs.\n",
      "=>Starting 11/500 epochs.\n",
      "=>Starting 21/500 epochs.\n",
      "=>Starting 31/500 epochs.\n",
      "=>Starting 41/500 epochs.\n",
      "=>Starting 51/500 epochs.\n",
      "=>Starting 61/500 epochs.\n",
      "=>Starting 71/500 epochs.\n",
      "=>Starting 81/500 epochs.\n",
      "=>Starting 91/500 epochs.\n",
      "=>Starting 101/500 epochs.\n",
      "=>Starting 111/500 epochs.\n",
      "=>Starting 121/500 epochs.\n",
      "=>Starting 131/500 epochs.\n",
      "=>Starting 141/500 epochs.\n",
      "=>Starting 151/500 epochs.\n",
      "=>Starting 161/500 epochs.\n",
      "=>Starting 171/500 epochs.\n",
      "=>Starting 181/500 epochs.\n",
      "=>Starting 191/500 epochs.\n",
      "=>Starting 201/500 epochs.\n",
      "=>Starting 211/500 epochs.\n",
      "=>Starting 221/500 epochs.\n",
      "=>Starting 231/500 epochs.\n",
      "=>Starting 241/500 epochs.\n",
      "=>Starting 251/500 epochs.\n",
      "=>Starting 261/500 epochs.\n",
      "=>Starting 271/500 epochs.\n",
      "=>Starting 281/500 epochs.\n",
      "=>Starting 291/500 epochs.\n",
      "=>Starting 301/500 epochs.\n",
      "=>Starting 311/500 epochs.\n",
      "=>Starting 321/500 epochs.\n",
      "=>Starting 331/500 epochs.\n",
      "=>Starting 341/500 epochs.\n",
      "=>Starting 351/500 epochs.\n",
      "=>Starting 361/500 epochs.\n",
      "=>Starting 371/500 epochs.\n",
      "=>Starting 381/500 epochs.\n",
      "=>Starting 391/500 epochs.\n",
      "=>Starting 401/500 epochs.\n",
      "=>Starting 411/500 epochs.\n",
      "=>Starting 421/500 epochs.\n",
      "=>Starting 431/500 epochs.\n",
      "=>Starting 441/500 epochs.\n",
      "=>Starting 451/500 epochs.\n",
      "=>Starting 461/500 epochs.\n",
      "=>Starting 471/500 epochs.\n",
      "=>Starting 481/500 epochs.\n",
      "=>Starting 491/500 epochs.\n",
      "Training done!\n"
     ]
    }
   ],
   "source": [
    "import math\n",
    "\n",
    "# Get ready to train\n",
    "model.train()\n",
    "\n",
    "# Break the list up into smaller batches for more efficient training\n",
    "numMiniBatch = int(math.floor(inputs.shape[0]/100.))\n",
    "inputMiniBatches = inputs.chunk(numMiniBatch)\n",
    "outputMiniBatches = outputs.chunk(numMiniBatch)\n",
    "\n",
    "# Train the neural network\n",
    "lossFunc = torch.nn.MSELoss()\n",
    "optimizer = torch.optim.Adam(model.parameters(),lr=1e-4)\n",
    "\n",
    "n_epochs = 500\n",
    "for epoch in range(n_epochs):\n",
    "  # Print something every 10 epochs of training\n",
    "  if epoch%10 == 0:\n",
    "    print('=>Starting {}/{} epochs.'.format(epoch+1,n_epochs))\n",
    "  for minibatch in range(numMiniBatch):\n",
    "    prediction = model(inputMiniBatches[minibatch])\n",
    "    loss = lossFunc(prediction,outputMiniBatches[minibatch])\n",
    "    optimizer.zero_grad()\n",
    "    loss.backward()\n",
    "    optimizer.step()\n",
    "\n",
    "\n",
    "print ('Training done!')"
   ]
  },
  {
   "cell_type": "code",
   "execution_count": 5,
   "metadata": {},
   "outputs": [
    {
     "name": "stdout",
     "output_type": "stream",
     "text": [
      "input: tensor([0.1000, 0.2000, 0.3000]), prediction: tensor([0.0999, 0.2003, 0.2997])\n"
     ]
    }
   ],
   "source": [
    "# Check out the output by running the model in evaluation\n",
    "with torch.no_grad():\n",
    "  model.eval()\n",
    "  test = torch.tensor([0.1, 0.2, 0.3])\n",
    "  prediction = model(test)\n",
    "  print('input: {}, prediction: {}'.format(test,prediction))"
   ]
  },
  {
   "cell_type": "code",
   "execution_count": 6,
   "metadata": {},
   "outputs": [
    {
     "name": "stdout",
     "output_type": "stream",
     "text": [
      "\n",
      "Weights and biases for first layer.\n",
      "[[-0.5669860243797302, 0.17802953720092773, -0.22293226420879364],\n",
      " [-0.356993168592453, -0.30792301893234253, -0.34331372380256653],\n",
      " [-0.110781230032444, 0.1137191578745842, -0.5053673386573792]]\n",
      "\n",
      "[2.225759744644165, 1.863700270652771, 1.8677211999893188]\n",
      "\n",
      "Weights and biases for second layer.\n",
      "[[-1.6340062618255615, -0.5428079962730408, 1.090437412261963],\n",
      " [1.1958799362182617, -2.199279308319092, 0.9663577675819397],\n",
      " [0.6275625824928284, -0.3754696547985077, -1.9991546869277954]]\n",
      "\n",
      "[2.611955165863037, -0.3675835430622101, 3.036720037460327]\n"
     ]
    }
   ],
   "source": [
    "# Let's look at the weights and biases\n",
    "# Check the math by hand\n",
    "A = model.state_dict()['0.weight'].tolist()\n",
    "a = model.state_dict()['0.bias'].tolist()\n",
    "print('\\nWeights and biases for first layer.')\n",
    "pprint.pprint(A)\n",
    "print()\n",
    "pprint.pprint(a)\n",
    "\n",
    "B = model.state_dict()['2.weight'].tolist()\n",
    "b = model.state_dict()['2.bias'].tolist()\n",
    "print('\\nWeights and biases for second layer.')\n",
    "pprint.pprint(B)\n",
    "print()\n",
    "pprint.pprint(b)"
   ]
  },
  {
   "cell_type": "code",
   "execution_count": 7,
   "metadata": {},
   "outputs": [
    {
     "name": "stdout",
     "output_type": "stream",
     "text": [
      "Input to neural network:\n",
      "x0= 0.1000, x1= 0.2000,x2= 0.3000\n",
      "\n",
      "Sums for first layer:\n",
      " 2.1378 = -0.5670 *  0.1000 +  0.1780 *  0.2000 + -0.2229 *  0.3000 +  2.2258\n",
      " 1.6634 = -0.3570 *  0.1000 + -0.3079 *  0.2000 + -0.3433 *  0.3000 +  1.8637\n",
      " 1.7278 = -0.1108 *  0.1000 +  0.1137 *  0.2000 + -0.5054 *  0.3000 +  1.8677\n",
      "\n",
      "Applying the ReLU to the sums:\n",
      "y0 =  2.1378 = ReLU( 2.1378)\n",
      "y1 =  1.6634 = ReLU( 1.6634)\n",
      "y2 =  1.7278 = ReLU( 1.7278)\n",
      "\n",
      "Calculating the final output:\n",
      "z0 =  0.0999 = -1.6340 *  2.1378 + -0.5428 *  1.6634 +  1.0904 *  1.7278 +  2.6120\n",
      "z1 =  0.2003 =  1.1959 *  2.1378 + -2.1993 *  1.6634 +  0.9664 *  1.7278 + -0.3676\n",
      "z2 =  0.2997 =  0.6276 *  2.1378 + -0.3755 *  1.6634 + -1.9992 *  1.7278 +  3.0367\n"
     ]
    }
   ],
   "source": [
    "# Work out the details\n",
    "x0 = test[0].item()\n",
    "x1 = test[1].item()\n",
    "x2 = test[2].item()\n",
    "\n",
    "print('Input to neural network:')\n",
    "print('x0={:7.4f}, x1={:7.4f},x2={:7.4f}'.format(x0,x1,x2))\n",
    "\n",
    "# Check the math by hand\n",
    "A = model.state_dict()['0.weight'].tolist()\n",
    "a = model.state_dict()['0.bias'].tolist()\n",
    "\n",
    "sum0 = A[0][0]*x0+A[0][1]*x1+A[0][2]*x2+a[0]\n",
    "sum1 = A[1][0]*x0+A[1][1]*x1+A[1][2]*x2+a[1]\n",
    "sum2 = A[2][0]*x0+A[2][1]*x1+A[2][2]*x2+a[2]\n",
    "print('\\nSums for first layer:')\n",
    "print('{:7.4f} = {:7.4f} * {:7.4f} + {:7.4f} * {:7.4f} + {:7.4f} * {:7.4f} + {:7.4f}'.format(sum0,A[0][0],x0,A[0][1],x1,A[0][2],x2,a[0]))\n",
    "print('{:7.4f} = {:7.4f} * {:7.4f} + {:7.4f} * {:7.4f} + {:7.4f} * {:7.4f} + {:7.4f}'.format(sum1,A[1][0],x0,A[1][1],x1,A[1][2],x2,a[1]))\n",
    "print('{:7.4f} = {:7.4f} * {:7.4f} + {:7.4f} * {:7.4f} + {:7.4f} * {:7.4f} + {:7.4f}'.format(sum2,A[2][0],x0,A[2][1],x1,A[2][2],x2,a[2]))\n",
    "\n",
    "y0 = max(sum0,0)\n",
    "y1 = max(sum1,0)\n",
    "y2 = max(sum2,0)\n",
    "print('\\nApplying the ReLU to the sums:')\n",
    "print('y0 = {:7.4f} = ReLU({:7.4f})'.format(y0,sum0))\n",
    "print('y1 = {:7.4f} = ReLU({:7.4f})'.format(y1,sum1))\n",
    "print('y2 = {:7.4f} = ReLU({:7.4f})'.format(y2,sum2))\n",
    "\n",
    "B = model.state_dict()['2.weight'].tolist()\n",
    "b = model.state_dict()['2.bias'].tolist()\n",
    "\n",
    "z0 = B[0][0]*y0+B[0][1]*y1+B[0][2]*y2+b[0]\n",
    "z1 = B[1][0]*y0+B[1][1]*y1+B[1][2]*y2+b[1]\n",
    "z2 = B[2][0]*y0+B[2][1]*y1+B[2][2]*y2+b[2]\n",
    "print('\\nCalculating the final output:')\n",
    "print('z0 = {:7.4f} = {:7.4f} * {:7.4f} + {:7.4f} * {:7.4f} + {:7.4f} * {:7.4f} + {:7.4f}'.format(z0,B[0][0],y0,B[0][1],y1,B[0][2],y2,b[0]))\n",
    "print('z1 = {:7.4f} = {:7.4f} * {:7.4f} + {:7.4f} * {:7.4f} + {:7.4f} * {:7.4f} + {:7.4f}'.format(z1,B[1][0],y0,B[1][1],y1,B[1][2],y2,b[1]))\n",
    "print('z2 = {:7.4f} = {:7.4f} * {:7.4f} + {:7.4f} * {:7.4f} + {:7.4f} * {:7.4f} + {:7.4f}'.format(z2,B[2][0],y0,B[2][1],y1,B[2][2],y2,b[2]))"
   ]
  },
  {
   "cell_type": "code",
   "execution_count": null,
   "metadata": {},
   "outputs": [],
   "source": []
  }
 ],
 "metadata": {
  "kernelspec": {
   "display_name": "Python 3 (ipykernel)",
   "language": "python",
   "name": "python3"
  },
  "language_info": {
   "codemirror_mode": {
    "name": "ipython",
    "version": 3
   },
   "file_extension": ".py",
   "mimetype": "text/x-python",
   "name": "python",
   "nbconvert_exporter": "python",
   "pygments_lexer": "ipython3",
   "version": "3.8.10"
  }
 },
 "nbformat": 4,
 "nbformat_minor": 4
}
